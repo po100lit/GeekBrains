{
 "cells": [
  {
   "cell_type": "markdown",
   "id": "02331de4",
   "metadata": {},
   "source": [
    "```f(x) =(sin(x)/2 + cos(x)/2)2 * sin(x)```\n",
    "\n",
    "Определить корни\n",
    "\n",
    "Найти интервалы, на которых функция возрастает\n",
    "\n",
    "Найти интервалы, на которых функция убывает\n",
    "\n",
    "Построить график\n",
    "\n",
    "Вычислить вершину\n",
    "\n",
    "Определить промежутки, на котором f > 0\n",
    "\n",
    "Определить промежутки, на котором f < 0"
   ]
  },
  {
   "cell_type": "code",
   "execution_count": 1,
   "id": "fb5d05c8",
   "metadata": {},
   "outputs": [],
   "source": [
    "from sympy import *\n",
    "from pprint import pprint"
   ]
  },
  {
   "cell_type": "code",
   "execution_count": 2,
   "id": "3fed28c6",
   "metadata": {},
   "outputs": [],
   "source": [
    "x = Symbol('x')"
   ]
  },
  {
   "cell_type": "code",
   "execution_count": 3,
   "id": "f71fc1db",
   "metadata": {},
   "outputs": [],
   "source": [
    "y = (sin(x)/2 + cos(x)/2) ** 2 * sin(x)"
   ]
  },
  {
   "cell_type": "code",
   "execution_count": 4,
   "id": "c8bf4391",
   "metadata": {},
   "outputs": [
    {
     "data": {
      "text/latex": [
       "$\\displaystyle \\left(\\frac{\\sin{\\left(x \\right)}}{2} + \\frac{\\cos{\\left(x \\right)}}{2}\\right)^{2} \\sin{\\left(x \\right)}$"
      ],
      "text/plain": [
       "(sin(x)/2 + cos(x)/2)**2*sin(x)"
      ]
     },
     "execution_count": 4,
     "metadata": {},
     "output_type": "execute_result"
    }
   ],
   "source": [
    "y"
   ]
  },
  {
   "cell_type": "markdown",
   "id": "ac773935",
   "metadata": {},
   "source": [
    "**Определить корни**"
   ]
  },
  {
   "cell_type": "code",
   "execution_count": 5,
   "id": "aee3a1f9",
   "metadata": {},
   "outputs": [
    {
     "data": {
      "text/latex": [
       "$\\displaystyle \\left\\{2 n \\pi\\; \\middle|\\; n \\in \\mathbb{Z}\\right\\} \\cup \\left\\{2 n \\pi + \\pi\\; \\middle|\\; n \\in \\mathbb{Z}\\right\\} \\cup \\left\\{2 n \\pi + \\frac{3 \\pi}{4}\\; \\middle|\\; n \\in \\mathbb{Z}\\right\\} \\cup \\left\\{2 n \\pi + \\frac{7 \\pi}{4}\\; \\middle|\\; n \\in \\mathbb{Z}\\right\\}$"
      ],
      "text/plain": [
       "Union(ImageSet(Lambda(_n, 2*_n*pi + 3*pi/4), Integers), ImageSet(Lambda(_n, 2*_n*pi + 7*pi/4), Integers), ImageSet(Lambda(_n, 2*_n*pi + pi), Integers), ImageSet(Lambda(_n, 2*_n*pi), Integers))"
      ]
     },
     "execution_count": 5,
     "metadata": {},
     "output_type": "execute_result"
    }
   ],
   "source": [
    "roots_y = solve(y)\n",
    "roots_y = sorted(roots_y)\n",
    "solveset(y)\n",
    "# roots_y"
   ]
  },
  {
   "cell_type": "markdown",
   "id": "1fe5a95f",
   "metadata": {},
   "source": [
    "Из корней видно, что функция периодическая с периодом (2𝜋𝑛 | 𝑛∈ℤ)"
   ]
  },
  {
   "cell_type": "markdown",
   "id": "f9f1e7cb",
   "metadata": {},
   "source": [
    "Область определения функции"
   ]
  },
  {
   "cell_type": "code",
   "execution_count": 6,
   "id": "aa5c59d5",
   "metadata": {},
   "outputs": [
    {
     "data": {
      "text/latex": [
       "$\\displaystyle \\mathbb{R}$"
      ],
      "text/plain": [
       "Reals"
      ]
     },
     "execution_count": 6,
     "metadata": {},
     "output_type": "execute_result"
    }
   ],
   "source": [
    "Reals - singularities(y, x)"
   ]
  },
  {
   "cell_type": "markdown",
   "id": "52b55384",
   "metadata": {},
   "source": [
    "**Построить график**"
   ]
  },
  {
   "cell_type": "code",
   "execution_count": 7,
   "id": "91f6081c",
   "metadata": {},
   "outputs": [
    {
     "data": {
      "image/png": "[encoded data removed]",
      "text/plain": [
       "<Figure size 432x288 with 1 Axes>"
      ]
     },
     "metadata": {
      "needs_background": "light"
     },
     "output_type": "display_data"
    }
   ],
   "source": [
    "g_y = plot(y)"
   ]
  },
  {
   "cell_type": "code",
   "execution_count": 8,
   "id": "73d78e06",
   "metadata": {},
   "outputs": [
    {
     "data": {
      "text/latex": [
       "$\\displaystyle \\left(- \\sin{\\left(x \\right)} + \\cos{\\left(x \\right)}\\right) \\left(\\frac{\\sin{\\left(x \\right)}}{2} + \\frac{\\cos{\\left(x \\right)}}{2}\\right) \\sin{\\left(x \\right)} + \\left(\\frac{\\sin{\\left(x \\right)}}{2} + \\frac{\\cos{\\left(x \\right)}}{2}\\right)^{2} \\cos{\\left(x \\right)}$"
      ],
      "text/plain": [
       "(-sin(x) + cos(x))*(sin(x)/2 + cos(x)/2)*sin(x) + (sin(x)/2 + cos(x)/2)**2*cos(x)"
      ]
     },
     "execution_count": 8,
     "metadata": {},
     "output_type": "execute_result"
    }
   ],
   "source": [
    "d = diff(y)\n",
    "d"
   ]
  },
  {
   "cell_type": "code",
   "execution_count": 9,
   "id": "6399e650",
   "metadata": {},
   "outputs": [
    {
     "data": {
      "text/plain": [
       "[-2*atan(-3/2 + sqrt(6)*sqrt(5 - sqrt(17))/2 + sqrt(17)/2),\n",
       " -pi/4,\n",
       " 2*atan(-sqrt(6)*sqrt(sqrt(17) + 5)/2 + 3/2 + sqrt(17)/2),\n",
       " 2*atan(-sqrt(17)/2 + sqrt(6)*sqrt(5 - sqrt(17))/2 + 3/2),\n",
       " 3*pi/4,\n",
       " 2*atan(3/2 + sqrt(17)/2 + sqrt(6)*sqrt(sqrt(17) + 5)/2)]"
      ]
     },
     "execution_count": 9,
     "metadata": {},
     "output_type": "execute_result"
    }
   ],
   "source": [
    "roots_d = solve(d)\n",
    "roots_d = sorted(roots_d)\n",
    "roots_d"
   ]
  },
  {
   "cell_type": "code",
   "execution_count": 10,
   "id": "a9924cbc",
   "metadata": {},
   "outputs": [
    {
     "data": {
      "image/png": "[encoded data removed]",
      "text/plain": [
       "<Figure size 432x288 with 1 Axes>"
      ]
     },
     "metadata": {
      "needs_background": "light"
     },
     "output_type": "display_data"
    }
   ],
   "source": [
    "g_d = plot(d)"
   ]
  },
  {
   "cell_type": "code",
   "execution_count": 11,
   "id": "3972aafd",
   "metadata": {},
   "outputs": [],
   "source": [
    "# Функция принимает корни уравнения\n",
    "# и создаёт промежутки для исследования функции\n",
    "def make_intervals(roots):\n",
    "    intervals = []\n",
    "    for i in range(len(roots)-1):\n",
    "        r = [roots[i], roots[i+1]]\n",
    "        intervals.append(r)\n",
    "    return intervals"
   ]
  },
  {
   "cell_type": "markdown",
   "id": "e4d2508b",
   "metadata": {},
   "source": [
    "**Вычислить вершины**"
   ]
  },
  {
   "cell_type": "code",
   "execution_count": 12,
   "id": "fa1301d3",
   "metadata": {},
   "outputs": [
    {
     "name": "stdout",
     "output_type": "stream",
     "text": [
      "Точки экстремума функции\n",
      "[-2*atan(-3/2 + sqrt(6)*sqrt(5 - sqrt(17))/2 + sqrt(17)/2),\n",
      " -pi/4,\n",
      " 2*atan(-sqrt(6)*sqrt(sqrt(17) + 5)/2 + 3/2 + sqrt(17)/2),\n",
      " 2*atan(-sqrt(17)/2 + sqrt(6)*sqrt(5 - sqrt(17))/2 + 3/2),\n",
      " 3*pi/4,\n",
      " 2*atan(3/2 + sqrt(17)/2 + sqrt(6)*sqrt(sqrt(17) + 5)/2)]\n"
     ]
    }
   ],
   "source": [
    "print('Точки экстремума функции')\n",
    "pprint(roots_d)"
   ]
  },
  {
   "cell_type": "code",
   "execution_count": 13,
   "id": "d3fa9dbd",
   "metadata": {},
   "outputs": [
    {
     "name": "stdout",
     "output_type": "stream",
     "text": [
      "точка минимума ⋁ - \"-2*atan(-3/2 + sqrt(6)*sqrt(5 - sqrt(17))/2 + sqrt(17)/2)\"\n",
      "точка максимума ⋀ - \"-pi/4\"\n",
      "точка минимума ⋁ - \"2*atan(-sqrt(6)*sqrt(sqrt(17) + 5)/2 + 3/2 + sqrt(17)/2)\"\n",
      "точка максимума ⋀ - \"2*atan(-sqrt(17)/2 + sqrt(6)*sqrt(5 - sqrt(17))/2 + 3/2)\"\n",
      "точка минимума ⋁ - \"3*pi/4\"\n",
      "точка максимума ⋀ - \"2*atan(3/2 + sqrt(17)/2 + sqrt(6)*sqrt(sqrt(17) + 5)/2)\"\n"
     ]
    }
   ],
   "source": [
    "for i in roots_d:\n",
    "    left_val = i-0.01 if i == 0 else i-0.01*abs(i)\n",
    "    right_val = i+0.01 if i == 0 else i+0.01*abs(i)\n",
    "    if d.evalf(subs={x: left_val}) < d.evalf(subs={x: i}) and d.evalf(subs={x: right_val}) > d.evalf(subs={x: i}):\n",
    "        print(f'точка минимума ⋁ - \"{i}\"')\n",
    "    else:\n",
    "        print(f'точка максимума ⋀ - \"{i}\"')"
   ]
  },
  {
   "cell_type": "markdown",
   "id": "17fd6941",
   "metadata": {},
   "source": [
    "**Интервалы на которых функция возрастает/убывает**"
   ]
  },
  {
   "cell_type": "code",
   "execution_count": 14,
   "id": "a6c0ad57",
   "metadata": {},
   "outputs": [],
   "source": [
    "intervals = make_intervals(roots_d)\n",
    "intervals.append([intervals[-1][1], intervals[0][0]+2*pi]) # Учитавыем периодичность"
   ]
  },
  {
   "cell_type": "code",
   "execution_count": 15,
   "id": "98190cf1",
   "metadata": {},
   "outputs": [
    {
     "name": "stdout",
     "output_type": "stream",
     "text": [
      "⮝ Функция возрастает на промежутке (-2*atan(-3/2 + sqrt(6)*sqrt(5 - sqrt(17))/2 + sqrt(17)/2), -pi/4)\n",
      "⮟ Функция убывает на промежутке (-pi/4, 2*atan(-sqrt(6)*sqrt(sqrt(17) + 5)/2 + 3/2 + sqrt(17)/2))\n",
      "⮝ Функция возрастает на промежутке (2*atan(-sqrt(6)*sqrt(sqrt(17) + 5)/2 + 3/2 + sqrt(17)/2), 2*atan(-sqrt(17)/2 + sqrt(6)*sqrt(5 - sqrt(17))/2 + 3/2))\n",
      "⮟ Функция убывает на промежутке (2*atan(-sqrt(17)/2 + sqrt(6)*sqrt(5 - sqrt(17))/2 + 3/2), 3*pi/4)\n",
      "⮝ Функция возрастает на промежутке (3*pi/4, 2*atan(3/2 + sqrt(17)/2 + sqrt(6)*sqrt(sqrt(17) + 5)/2))\n",
      "⮟ Функция убывает на промежутке (2*atan(3/2 + sqrt(17)/2 + sqrt(6)*sqrt(sqrt(17) + 5)/2), -2*atan(-3/2 + sqrt(6)*sqrt(5 - sqrt(17))/2 + sqrt(17)/2) + 2*pi)\n"
     ]
    }
   ],
   "source": [
    "for i in intervals:\n",
    "    if d.evalf(subs={x:(i[0] + i[1])/2}) > 0:\n",
    "        print(f'⮝ Функция возрастает на промежутке {i[0], i[1]}')\n",
    "    else:\n",
    "        print(f'⮟ Функция убывает на промежутке {i[0], i[1]}')"
   ]
  },
  {
   "cell_type": "markdown",
   "id": "1edeaf4b",
   "metadata": {},
   "source": [
    "Область значений функции"
   ]
  },
  {
   "cell_type": "code",
   "execution_count": 16,
   "id": "88011c1c",
   "metadata": {},
   "outputs": [
    {
     "name": "stdout",
     "output_type": "stream",
     "text": [
      "[-0.404106232073136, 0.404106232073136]\n"
     ]
    }
   ],
   "source": [
    "func_values = []\n",
    "for i in roots_d:\n",
    "    func_values.append(y.evalf(subs={x:i}))\n",
    "print([min(func_values), max(func_values)])"
   ]
  },
  {
   "cell_type": "markdown",
   "id": "379fd905",
   "metadata": {},
   "source": [
    "**Определить промежутки, на которых ```f(x) > 0``` и ```f(x) < 0```**"
   ]
  },
  {
   "cell_type": "code",
   "execution_count": 17,
   "id": "a9533008",
   "metadata": {},
   "outputs": [],
   "source": [
    "intervals = make_intervals(roots_y)\n",
    "intervals.append([intervals[-1][1], intervals[0][0]+2*pi]) # Учитавыем периодичность"
   ]
  },
  {
   "cell_type": "code",
   "execution_count": 18,
   "id": "3c8f62e0",
   "metadata": {},
   "outputs": [
    {
     "name": "stdout",
     "output_type": "stream",
     "text": [
      "f(x) < 0 на промежутке (-pi/4, 0)\n",
      "f(x) > 0 на промежутке (0, 3*pi/4)\n",
      "f(x) > 0 на промежутке (3*pi/4, pi)\n",
      "f(x) < 0 на промежутке (pi, 7*pi/4)\n"
     ]
    }
   ],
   "source": [
    "for i in intervals:\n",
    "    if y.evalf(subs={x:(i[0] + i[1])/2}) > 0:\n",
    "        print(f'f(x) > 0 на промежутке {i[0], i[1]}')\n",
    "    else:\n",
    "        print(f'f(x) < 0 на промежутке {i[0], i[1]}')"
   ]
  }
 ],
 "metadata": {
  "kernelspec": {
   "display_name": "Python 3 (ipykernel)",
   "language": "python",
   "name": "python3"
  },
  "language_info": {
   "codemirror_mode": {
    "name": "ipython",
    "version": 3
   },
   "file_extension": ".py",
   "mimetype": "text/x-python",
   "name": "python",
   "nbconvert_exporter": "python",
   "pygments_lexer": "ipython3",
   "version": "3.9.12"
  }
 },
 "nbformat": 4,
 "nbformat_minor": 5
}
